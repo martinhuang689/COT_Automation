{
 "cells": [
  {
   "cell_type": "code",
   "execution_count": null,
   "id": "658f1f19",
   "metadata": {},
   "outputs": [],
   "source": [
    "pip install colorama"
   ]
  },
  {
   "cell_type": "code",
   "execution_count": null,
   "id": "8644dc20",
   "metadata": {},
   "outputs": [],
   "source": [
    "!wget https://raw.githubusercontent.com/martinhuang689/COT_Automation/main/checker5_DO_auto.py\n",
    "\n",
    "from checker5_DO_auto import process_client_data, print_results\n",
    "\n",
    "# client data (replace with actual data)\n",
    "document = \"\"\"\n",
    "replace with actual data here\n",
    "\"\"\"\n",
    "\n",
    "if __name__ == \"__main__\":\n",
    "    # Process the document and get results\n",
    "    results, outcomes = process_client_data(document)\n",
    "    \n",
    "    # Print the results and outcomes\n",
    "    print_results(results, outcomes)"
   ]
  },
  {
   "cell_type": "markdown",
   "id": "c6d58409",
   "metadata": {},
   "source": []
  }
 ],
 "metadata": {
  "kernelspec": {
   "display_name": "Python 3",
   "language": "python",
   "name": "python3"
  },
  "language_info": {
   "codemirror_mode": {
    "name": "ipython",
    "version": 3
   },
   "file_extension": ".py",
   "mimetype": "text/x-python",
   "name": "python",
   "nbconvert_exporter": "python",
   "pygments_lexer": "ipython3",
   "version": "3.11.9"
  }
 },
 "nbformat": 4,
 "nbformat_minor": 5
}
