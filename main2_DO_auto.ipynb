{
 "cells": [
  {
   "cell_type": "code",
   "execution_count": null,
   "id": "8644dc20",
   "metadata": {},
   "outputs": [
    {
     "name": "stdout",
     "output_type": "stream",
     "text": [
      "Failed to download checker5_DO_auto.py: 404 Client Error: Not Found for url: https://raw.githubusercontent.com/martinhuang689/COT_Automation/main/checker5_DO_auto.py\n"
     ]
    },
    {
     "ename": "HTTPError",
     "evalue": "404 Client Error: Not Found for url: https://raw.githubusercontent.com/martinhuang689/COT_Automation/main/checker5_DO_auto.py",
     "output_type": "error",
     "traceback": [
      "\u001b[31m---------------------------------------------------------------------------\u001b[39m",
      "\u001b[31mHTTPError\u001b[39m                                 Traceback (most recent call last)",
      "\u001b[36mCell\u001b[39m\u001b[36m \u001b[39m\u001b[32mIn[4]\u001b[39m\u001b[32m, line 146\u001b[39m\n\u001b[32m    144\u001b[39m \u001b[38;5;28;01mtry\u001b[39;00m:\n\u001b[32m    145\u001b[39m     response = requests.get(url)\n\u001b[32m--> \u001b[39m\u001b[32m146\u001b[39m     \u001b[43mresponse\u001b[49m\u001b[43m.\u001b[49m\u001b[43mraise_for_status\u001b[49m\u001b[43m(\u001b[49m\u001b[43m)\u001b[49m  \u001b[38;5;66;03m# Check for HTTP errors\u001b[39;00m\n\u001b[32m    147\u001b[39m     \u001b[38;5;28;01mwith\u001b[39;00m \u001b[38;5;28mopen\u001b[39m(\u001b[33m'\u001b[39m\u001b[33mchecker5_DO_auto.py\u001b[39m\u001b[33m'\u001b[39m, \u001b[33m'\u001b[39m\u001b[33mw\u001b[39m\u001b[33m'\u001b[39m) \u001b[38;5;28;01mas\u001b[39;00m f:\n\u001b[32m    148\u001b[39m         f.write(response.text)\n",
      "\u001b[36mFile \u001b[39m\u001b[32m~\\AppData\\Local\\Packages\\PythonSoftwareFoundation.Python.3.11_qbz5n2kfra8p0\\LocalCache\\local-packages\\Python311\\site-packages\\requests\\models.py:1026\u001b[39m, in \u001b[36mResponse.raise_for_status\u001b[39m\u001b[34m(self)\u001b[39m\n\u001b[32m   1021\u001b[39m     http_error_msg = (\n\u001b[32m   1022\u001b[39m         \u001b[33mf\u001b[39m\u001b[33m\"\u001b[39m\u001b[38;5;132;01m{\u001b[39;00m\u001b[38;5;28mself\u001b[39m.status_code\u001b[38;5;132;01m}\u001b[39;00m\u001b[33m Server Error: \u001b[39m\u001b[38;5;132;01m{\u001b[39;00mreason\u001b[38;5;132;01m}\u001b[39;00m\u001b[33m for url: \u001b[39m\u001b[38;5;132;01m{\u001b[39;00m\u001b[38;5;28mself\u001b[39m.url\u001b[38;5;132;01m}\u001b[39;00m\u001b[33m\"\u001b[39m\n\u001b[32m   1023\u001b[39m     )\n\u001b[32m   1025\u001b[39m \u001b[38;5;28;01mif\u001b[39;00m http_error_msg:\n\u001b[32m-> \u001b[39m\u001b[32m1026\u001b[39m     \u001b[38;5;28;01mraise\u001b[39;00m HTTPError(http_error_msg, response=\u001b[38;5;28mself\u001b[39m)\n",
      "\u001b[31mHTTPError\u001b[39m: 404 Client Error: Not Found for url: https://raw.githubusercontent.com/martinhuang689/COT_Automation/main/checker5_DO_auto.py"
     ]
    }
   ],
   "source": [
    "# client data (replace with actual data)\n",
    "document = \"\"\"\n",
    "\n",
    "\"\"\"\n",
    "\n",
    "import os\n",
    "import requests\n",
    "\n",
    "# Correct raw URL to the file on GitHub\n",
    "url = 'https://raw.githubusercontent.com/martinhuang689/COT_Automation/main/checker5_DO_auto.py'\n",
    "\n",
    "# Download the file\n",
    "try:\n",
    "    response = requests.get(url)\n",
    "    response.raise_for_status()  # Check for HTTP errors\n",
    "    with open('checker5_DO_auto.py', 'w') as f:\n",
    "        f.write(response.text)\n",
    "    pass\n",
    "except requests.exceptions.RequestException as e:\n",
    "    print(f\"Failed to download checker5_DO_auto.py: {e}\")\n",
    "    raise\n",
    "\n",
    "# Import the functions from the downloaded file\n",
    "try:\n",
    "    from checker5_DO_auto import process_client_data, print_results\n",
    "except SyntaxError as e:\n",
    "    print(f\"Error importing checker5_DO_auto.py: {e}\")\n",
    "    raise\n",
    "\n",
    "if __name__ == \"__main__\":\n",
    "    # Process the document and get results\n",
    "    results, outcomes = process_client_data(document)\n",
    "    \n",
    "    # Print the results and outcomes\n",
    "    print_results(results, outcomes)"
   ]
  },
  {
   "cell_type": "markdown",
   "id": "3c9d03c1",
   "metadata": {},
   "source": [
    "Manual Check List\n",
    "1. Any auto-detected problems\n",
    "2. Wait Fund vs. Manual FPS\n",
    "3. Industry vs. Company\n",
    "4. Date of Birth vs ID Card\n",
    "5. Residential vs. Employer (still)\n",
    "6. Designated Bank vs. Bank proof and deposit clip\n",
    "7. check email proof, if necessary\n",
    "8. DJ S name and Date of Birth\n",
    "9. DJ R entries number vs S, hit number\n",
    "10. DJ each English name, Chinese name, Gender"
   ]
  }
 ],
 "metadata": {
  "kernelspec": {
   "display_name": "Python 3",
   "language": "python",
   "name": "python3"
  },
  "language_info": {
   "codemirror_mode": {
    "name": "ipython",
    "version": 3
   },
   "file_extension": ".py",
   "mimetype": "text/x-python",
   "name": "python",
   "nbconvert_exporter": "python",
   "pygments_lexer": "ipython3",
   "version": "3.11.9"
  }
 },
 "nbformat": 4,
 "nbformat_minor": 5
}
