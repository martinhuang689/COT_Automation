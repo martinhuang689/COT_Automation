{
 "cells": [
  {
   "cell_type": "code",
   "execution_count": null,
   "id": "e3e9e073",
   "metadata": {},
   "outputs": [],
   "source": [
    "pip install colorama"
   ]
  },
  {
   "cell_type": "code",
   "execution_count": null,
   "id": "da0392ae",
   "metadata": {},
   "outputs": [
    {
     "name": "stdout",
     "output_type": "stream",
     "text": [
      "znm13553243893@163.com\n",
      "姓名: 张 娘妹   ZHANG NIANGMEI\n",
      "稅務編號: 442525196410205128 ; 3 \u001b[31mFalse\u001b[0m\n",
      "passport date: 2026-07-25 \u001b[32mTrue\u001b[0m\n",
      "\n",
      "證件住址: 广东省东源县蓝口镇地运村委会一小组5号 \u001b[32mTrue\u001b[0m\n",
      "住宅地址: 广东省东源县蓝口镇地运村委会一小组5号 ; 3 \u001b[32mTrue\u001b[0m\n",
      "公司地址: 中国 广东省河源市源城区新江三路298 \u001b[32mTrue\u001b[0m\n",
      "公司名稱: 河源新丰江酒店\n",
      "工作狀況: 在职 (包括公司持有人) , 住宿及膳食服务活动 , 非技术工人\n",
      "SoF 薪金储蓄,营业溢利\n",
      "\n",
      "Liquid Asset Number: 200000, Net Worth Number: 200000, Is Liquid Asset <= Net Worth? \u001b[32mTrue\u001b[0m\n",
      "Does annual income match with net worth? 200000*3 = 600000 >= True \u001b[32mTrue\u001b[0m\n"
     ]
    },
    {
     "name": "stderr",
     "output_type": "stream",
     "text": [
      "'wget' ���O�����Υ~���R�O�B�i���檺�{���Χ妸�ɡC\n"
     ]
    }
   ],
   "source": [
    "!wget https://raw.githubusercontent.com/martinhuang689/COT_Automation/main/checker1_CA_auto.py\n",
    "\n",
    "\n",
    "text = \"\"\"\n",
    "replace with actual data here\n",
    "\n",
    "\"\"\"  \n",
    "\n",
    "from checker1_CA_auto import extract_all_fields, extract_largest_number, check_date\n",
    "\n",
    "\n",
    "# Extract all fields and counts\n",
    "data = extract_all_fields(text)\n",
    "\n",
    "# Print the results\n",
    "\n",
    "# Print email\n",
    "print(data[\"email\"])\n",
    "\n",
    "# Print name and English name\n",
    "print(\"姓名:\", data[\"name\"], \" \", data[\"nameENG\"])\n",
    "\n",
    "# Print tax ID with count and colored condition\n",
    "print(\"稅務編號:\", data[\"tax_id\"], \";\", data[\"tax_id_count\"], \n",
    "      \"\\033[32m\" + \"True\" + \"\\033[0m\" if data[\"tax_id_count\"] >= 4 else \"\\033[31m\" + \"False\" + \"\\033[0m\")\n",
    "\n",
    "# Print passport date with colored condition\n",
    "print(\"passport date:\", data[\"passportdate\"], \n",
    "      \"\\033[32m\" + \"True\" + \"\\033[0m\" if check_date(data[\"passportdate\"]) else \"\\033[31m\" + \"False\" + \"\\033[0m\")\n",
    "\n",
    "# Print pass address with colored condition\n",
    "print(\"\\n證件住址:\", data[\"pass_address\"], \n",
    "      \"\\033[32m\" + \"True\" + \"\\033[0m\" if data[\"pass_address\"] == data[\"res_address\"] else \"\\033[31m\" + \"False\" + \"\\033[0m\")\n",
    "\n",
    "# Print residential address with count and colored condition\n",
    "print(\"住宅地址:\", data[\"res_address\"], \";\", data[\"res_address_count\"], \n",
    "      \"\\033[32m\" + \"True\" + \"\\033[0m\" if data[\"res_address_count\"] >= 3 else \"\\033[31m\" + \"False\" + \"\\033[0m\")\n",
    "\n",
    "# Print company address with colored condition\n",
    "print(\"公司地址:\", data[\"comp_address\"], \n",
    "      \"\\033[32m\" + \"True\" + \"\\033[0m\" if data[\"comp_address\"] != data[\"res_address\"] else \"\\033[31m\" + \"False\" + \"\\033[0m\")\n",
    "\n",
    "# Print company name\n",
    "print(\"公司名稱:\", data[\"comp_name\"])\n",
    "\n",
    "# Print employment status, industry, and occupation\n",
    "print(\"工作狀況:\", data[\"emp_status\"], \",\", data[\"industry\"], \",\", data[\"occupation\"])\n",
    "\n",
    "# Print sources of funds\n",
    "print(\"SoF\", data[\"sources\"])\n",
    "\n",
    "# Perform financial checks\n",
    "if data[\"liquidasset\"] != \"Not found\" and data[\"networth\"] != \"Not found\":\n",
    "    result = extract_largest_number(data[\"liquidasset\"], data[\"networth\"], data[\"income\"], data[\"duration\"])\n",
    "    print(f\"\\nLiquid Asset Number: {result[0]}, Net Worth Number: {result[1]}, Is Liquid Asset <= Net Worth? \" + ('\\033[32mTrue\\033[0m' if result[2] else '\\033[31mFalse\\033[0m'))\n",
    "    print(f\"Does annual income match with net worth? {result[3]}*{result[6]} = {result[4]} >= {result[5]} \" + ('\\033[32mTrue\\033[0m' if result[5] else '\\033[31mFalse\\033[0m'))\n",
    "    if not result[2]:\n",
    "        print(\"流動資產與資產淨值範圍不符，請閣下重新確認及填寫，後重新提交。\")\n",
    "    if not result[5]:\n",
    "        print(\"年薪與流動資產、資產淨值範圍不符，請閣下重新確認及填寫，後重新提交。\")\n",
    "else:\n",
    "    print(\"One or both values not found\")"
   ]
  }
 ],
 "metadata": {
  "kernelspec": {
   "display_name": "Python 3",
   "language": "python",
   "name": "python3"
  },
  "language_info": {
   "codemirror_mode": {
    "name": "ipython",
    "version": 3
   },
   "file_extension": ".py",
   "mimetype": "text/x-python",
   "name": "python",
   "nbconvert_exporter": "python",
   "pygments_lexer": "ipython3",
   "version": "3.11.9"
  }
 },
 "nbformat": 4,
 "nbformat_minor": 5
}
